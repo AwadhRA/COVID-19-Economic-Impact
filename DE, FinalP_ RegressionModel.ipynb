{
 "cells": [
  {
   "cell_type": "markdown",
   "metadata": {},
   "source": [
    "# Data Engineering  Final Project, Group 5\n",
    "### Regression Code"
   ]
  },
  {
   "cell_type": "markdown",
   "metadata": {},
   "source": [
    "#### Importing our Dataset"
   ]
  },
  {
   "cell_type": "code",
   "execution_count": 61,
   "metadata": {},
   "outputs": [
    {
     "name": "stdout",
     "output_type": "stream",
     "text": [
      "             Date  Covid Cases  Deaths  Unemployment  Laborforce- male  \\\n",
      "record                                                                   \n",
      "0      2019-11-22            0       0        1545.0           38440.0   \n",
      "1      2019-11-23            0       0        1541.0           38439.0   \n",
      "2      2019-11-24            0       0        1536.0           38437.0   \n",
      "3      2019-11-25            0       0        1532.0           38436.0   \n",
      "4      2019-11-26            0       0        1528.0           38435.0   \n",
      "\n",
      "        Laborforce- female  \n",
      "record                      \n",
      "0                  30791.0  \n",
      "1                  30780.0  \n",
      "2                  30768.0  \n",
      "3                  30757.0  \n",
      "4                  30746.0  \n"
     ]
    },
    {
     "data": {
      "text/html": [
       "<div>\n",
       "<style scoped>\n",
       "    .dataframe tbody tr th:only-of-type {\n",
       "        vertical-align: middle;\n",
       "    }\n",
       "\n",
       "    .dataframe tbody tr th {\n",
       "        vertical-align: top;\n",
       "    }\n",
       "\n",
       "    .dataframe thead th {\n",
       "        text-align: right;\n",
       "    }\n",
       "</style>\n",
       "<table border=\"1\" class=\"dataframe\">\n",
       "  <thead>\n",
       "    <tr style=\"text-align: right;\">\n",
       "      <th></th>\n",
       "      <th>Date</th>\n",
       "      <th>Covid Cases</th>\n",
       "      <th>Deaths</th>\n",
       "      <th>Unemployment</th>\n",
       "      <th>Laborforce- male</th>\n",
       "      <th>Laborforce- female</th>\n",
       "    </tr>\n",
       "    <tr>\n",
       "      <th>record</th>\n",
       "      <th></th>\n",
       "      <th></th>\n",
       "      <th></th>\n",
       "      <th></th>\n",
       "      <th></th>\n",
       "      <th></th>\n",
       "    </tr>\n",
       "  </thead>\n",
       "  <tbody>\n",
       "    <tr>\n",
       "      <th>1058</th>\n",
       "      <td>2022-10-15</td>\n",
       "      <td>0</td>\n",
       "      <td>0</td>\n",
       "      <td>NaN</td>\n",
       "      <td>NaN</td>\n",
       "      <td>NaN</td>\n",
       "    </tr>\n",
       "    <tr>\n",
       "      <th>1059</th>\n",
       "      <td>2022-10-16</td>\n",
       "      <td>0</td>\n",
       "      <td>0</td>\n",
       "      <td>NaN</td>\n",
       "      <td>NaN</td>\n",
       "      <td>NaN</td>\n",
       "    </tr>\n",
       "    <tr>\n",
       "      <th>1060</th>\n",
       "      <td>2022-10-17</td>\n",
       "      <td>0</td>\n",
       "      <td>0</td>\n",
       "      <td>NaN</td>\n",
       "      <td>NaN</td>\n",
       "      <td>NaN</td>\n",
       "    </tr>\n",
       "    <tr>\n",
       "      <th>1061</th>\n",
       "      <td>2022-10-18</td>\n",
       "      <td>0</td>\n",
       "      <td>0</td>\n",
       "      <td>NaN</td>\n",
       "      <td>NaN</td>\n",
       "      <td>NaN</td>\n",
       "    </tr>\n",
       "    <tr>\n",
       "      <th>1062</th>\n",
       "      <td>2022-10-19</td>\n",
       "      <td>0</td>\n",
       "      <td>0</td>\n",
       "      <td>NaN</td>\n",
       "      <td>NaN</td>\n",
       "      <td>NaN</td>\n",
       "    </tr>\n",
       "  </tbody>\n",
       "</table>\n",
       "</div>"
      ],
      "text/plain": [
       "             Date  Covid Cases  Deaths  Unemployment  Laborforce- male  \\\n",
       "record                                                                   \n",
       "1058   2022-10-15            0       0           NaN               NaN   \n",
       "1059   2022-10-16            0       0           NaN               NaN   \n",
       "1060   2022-10-17            0       0           NaN               NaN   \n",
       "1061   2022-10-18            0       0           NaN               NaN   \n",
       "1062   2022-10-19            0       0           NaN               NaN   \n",
       "\n",
       "        Laborforce- female  \n",
       "record                      \n",
       "1058                   NaN  \n",
       "1059                   NaN  \n",
       "1060                   NaN  \n",
       "1061                   NaN  \n",
       "1062                   NaN  "
      ]
     },
     "execution_count": 61,
     "metadata": {},
     "output_type": "execute_result"
    }
   ],
   "source": [
    "import pandas as pd\n",
    "import matplotlib.pyplot as plt\n",
    "import seaborn as sns; sns.set()\n",
    "\n",
    "df = pd.read_csv(\"Japan-predict.csv\")\n",
    "df['Date'] = pd.to_datetime(df['Date'])\n",
    "\n",
    "# Record number is our index\n",
    "df.index.name = \"record\"\n",
    "print(df.head())\n",
    "df.tail()"
   ]
  },
  {
   "cell_type": "code",
   "execution_count": null,
   "metadata": {},
   "outputs": [],
   "source": []
  },
  {
   "cell_type": "markdown",
   "metadata": {},
   "source": [
    "#### Creating our test & training dataset\n",
    "Since our original dataset contains a lot of unpredicted values,i.e., future unemployment & laborforce,\n",
    "the dataset must first be seperated into two different datasets, one tha contains all of our known values,\n",
    "& one that contains all of our unkown values."
   ]
  },
  {
   "cell_type": "code",
   "execution_count": 62,
   "metadata": {},
   "outputs": [],
   "source": [
    "from sklearn.model_selection import train_test_split\n",
    "\n",
    "# ColY consists of all our dependants.\n",
    "# ColX consists of our predictors\n",
    "colY = ['Unemployment', 'Laborforce- male', 'Laborforce- female']\n",
    "colX = ['Covid Cases','Deaths']\n",
    "\n",
    "# notnans contains all of our known values, hence we can create a model with this dataset.\n",
    "known = df[colY].notnull().all(axis=1)\n",
    "df_known = df[known]\n",
    "\n",
    "X_train, X_test, y_train, y_test = train_test_split(df_known[colX], df_known[colY],\n",
    "                                                    train_size=0.75,\n",
    "                                                    random_state=4)"
   ]
  },
  {
   "cell_type": "markdown",
   "metadata": {},
   "source": [
    "#### Random Forest Model\n",
    "For our first model, we've used a Random Forest Regression model.<br>\n",
    "The model also uses Multi output regression since we're trying to predict more than 3 variables.\n",
    "We have used Random Forest because:\n",
    "   * Higher accuracy\n",
    "   * Better at handling missing values while maintaining accuracy\n",
    "   * Low bias due to Bagging & Ensembling\n",
    "    "
   ]
  },
  {
   "cell_type": "code",
   "execution_count": 63,
   "metadata": {},
   "outputs": [
    {
     "name": "stdout",
     "output_type": "stream",
     "text": [
      "Accuracy of test data is 0.87\n"
     ]
    },
    {
     "name": "stderr",
     "output_type": "stream",
     "text": [
      "D:\\Anaconda3\\lib\\site-packages\\sklearn\\ensemble\\forest.py:245: FutureWarning: The default value of n_estimators will change from 10 in version 0.20 to 100 in 0.22.\n",
      "  \"10 in version 0.20 to 100 in 0.22.\", FutureWarning)\n",
      "D:\\Anaconda3\\lib\\site-packages\\sklearn\\ensemble\\forest.py:245: FutureWarning: The default value of n_estimators will change from 10 in version 0.20 to 100 in 0.22.\n",
      "  \"10 in version 0.20 to 100 in 0.22.\", FutureWarning)\n",
      "D:\\Anaconda3\\lib\\site-packages\\sklearn\\ensemble\\forest.py:245: FutureWarning: The default value of n_estimators will change from 10 in version 0.20 to 100 in 0.22.\n",
      "  \"10 in version 0.20 to 100 in 0.22.\", FutureWarning)\n"
     ]
    }
   ],
   "source": [
    "from sklearn.ensemble import RandomForestRegressor\n",
    "from sklearn.multioutput import MultiOutputRegressor\n",
    "\n",
    "# The model\n",
    "model = MultiOutputRegressor(RandomForestRegressor(random_state=0))\n",
    "\n",
    "# Fit the training data\n",
    "model.fit(X_train, y_train)\n",
    "\n",
    "# Check the prediction score\n",
    "score = model.score(X_test, y_test)\n",
    "print(\"Accuracy of test data is {:.2f}\".format(score))"
   ]
  },
  {
   "cell_type": "markdown",
   "metadata": {},
   "source": [
    "#### Linear Regression Model\n",
    "We also created another model based on linear regression"
   ]
  },
  {
   "cell_type": "code",
   "execution_count": 64,
   "metadata": {
    "scrolled": true
   },
   "outputs": [
    {
     "name": "stdout",
     "output_type": "stream",
     "text": [
      "r2 score is = 0.22265850666962875\n"
     ]
    }
   ],
   "source": [
    "from sklearn.linear_model import LinearRegression\n",
    "from sklearn.metrics import r2_score\n",
    "\n",
    "model_2 = MultiOutputRegressor(LinearRegression())\n",
    "\n",
    "# Fit on the train data\n",
    "model_2.fit(X_train, y_train)\n",
    "\n",
    "# Creating our predictions\n",
    "y_pred = model_2.predict(X_test)\n",
    "\n",
    "r2 = r2_score(y_test, y_pred)\n",
    "print('r2 score is = ' + str(r2))"
   ]
  },
  {
   "cell_type": "markdown",
   "metadata": {},
   "source": [
    "#### Forecasting with our model\n",
    "We've used our random forest model for forecasting since it has a better rate of accuracy in comparison to our linear model. <br>\n",
    "Before we create our predictions, we first create a dataset that consist of all of our unkown variables"
   ]
  },
  {
   "cell_type": "code",
   "execution_count": 65,
   "metadata": {},
   "outputs": [
    {
     "data": {
      "text/html": [
       "<div>\n",
       "<style scoped>\n",
       "    .dataframe tbody tr th:only-of-type {\n",
       "        vertical-align: middle;\n",
       "    }\n",
       "\n",
       "    .dataframe tbody tr th {\n",
       "        vertical-align: top;\n",
       "    }\n",
       "\n",
       "    .dataframe thead th {\n",
       "        text-align: right;\n",
       "    }\n",
       "</style>\n",
       "<table border=\"1\" class=\"dataframe\">\n",
       "  <thead>\n",
       "    <tr style=\"text-align: right;\">\n",
       "      <th></th>\n",
       "      <th>Date</th>\n",
       "      <th>Covid Cases</th>\n",
       "      <th>Deaths</th>\n",
       "      <th>Unemployment</th>\n",
       "      <th>Laborforce- male</th>\n",
       "      <th>Laborforce- female</th>\n",
       "    </tr>\n",
       "    <tr>\n",
       "      <th>record</th>\n",
       "      <th></th>\n",
       "      <th></th>\n",
       "      <th></th>\n",
       "      <th></th>\n",
       "      <th></th>\n",
       "      <th></th>\n",
       "    </tr>\n",
       "  </thead>\n",
       "  <tbody>\n",
       "    <tr>\n",
       "      <th>1058</th>\n",
       "      <td>2022-10-15</td>\n",
       "      <td>0</td>\n",
       "      <td>0</td>\n",
       "      <td>1494.524791</td>\n",
       "      <td>38290.479564</td>\n",
       "      <td>30598.929081</td>\n",
       "    </tr>\n",
       "    <tr>\n",
       "      <th>1059</th>\n",
       "      <td>2022-10-16</td>\n",
       "      <td>0</td>\n",
       "      <td>0</td>\n",
       "      <td>1494.524791</td>\n",
       "      <td>38290.479564</td>\n",
       "      <td>30598.929081</td>\n",
       "    </tr>\n",
       "    <tr>\n",
       "      <th>1060</th>\n",
       "      <td>2022-10-17</td>\n",
       "      <td>0</td>\n",
       "      <td>0</td>\n",
       "      <td>1494.524791</td>\n",
       "      <td>38290.479564</td>\n",
       "      <td>30598.929081</td>\n",
       "    </tr>\n",
       "    <tr>\n",
       "      <th>1061</th>\n",
       "      <td>2022-10-18</td>\n",
       "      <td>0</td>\n",
       "      <td>0</td>\n",
       "      <td>1494.524791</td>\n",
       "      <td>38290.479564</td>\n",
       "      <td>30598.929081</td>\n",
       "    </tr>\n",
       "    <tr>\n",
       "      <th>1062</th>\n",
       "      <td>2022-10-19</td>\n",
       "      <td>0</td>\n",
       "      <td>0</td>\n",
       "      <td>1494.524791</td>\n",
       "      <td>38290.479564</td>\n",
       "      <td>30598.929081</td>\n",
       "    </tr>\n",
       "  </tbody>\n",
       "</table>\n",
       "</div>"
      ],
      "text/plain": [
       "             Date  Covid Cases  Deaths  Unemployment  Laborforce- male  \\\n",
       "record                                                                   \n",
       "1058   2022-10-15            0       0   1494.524791      38290.479564   \n",
       "1059   2022-10-16            0       0   1494.524791      38290.479564   \n",
       "1060   2022-10-17            0       0   1494.524791      38290.479564   \n",
       "1061   2022-10-18            0       0   1494.524791      38290.479564   \n",
       "1062   2022-10-19            0       0   1494.524791      38290.479564   \n",
       "\n",
       "        Laborforce- female  \n",
       "record                      \n",
       "1058          30598.929081  \n",
       "1059          30598.929081  \n",
       "1060          30598.929081  \n",
       "1061          30598.929081  \n",
       "1062          30598.929081  "
      ]
     },
     "execution_count": 65,
     "metadata": {},
     "output_type": "execute_result"
    }
   ],
   "source": [
    "df_unk = df.loc[~known].copy()\n",
    "df_unk[colY] = model.predict(df_unk[colX])\n",
    "\n",
    "df_unk.tail()"
   ]
  },
  {
   "cell_type": "code",
   "execution_count": 66,
   "metadata": {},
   "outputs": [
    {
     "data": {
      "text/plain": [
       "[Text(0, 0.5, 'Unemployment'), Text(0.5, 0, 'Month & Year')]"
      ]
     },
     "execution_count": 66,
     "metadata": {},
     "output_type": "execute_result"
    },
    {
     "data": {
      "image/png": "[encoded data removed]",
      "text/plain": [
       "<Figure size 432x288 with 1 Axes>"
      ]
     },
     "metadata": {},
     "output_type": "display_data"
    }
   ],
   "source": [
    "df_unk[['Date','Unemployment']].set_index('Date').plot().set(xlabel ='Month & Year', ylabel ='Unemployment')"
   ]
  },
  {
   "cell_type": "code",
   "execution_count": 67,
   "metadata": {},
   "outputs": [
    {
     "data": {
      "text/plain": [
       "[Text(0, 0.5, ' Male Laborforce'), Text(0.5, 0, 'Month & Year')]"
      ]
     },
     "execution_count": 67,
     "metadata": {},
     "output_type": "execute_result"
    },
    {
     "data": {
      "image/png": "[encoded data removed]",
      "text/plain": [
       "<Figure size 432x288 with 1 Axes>"
      ]
     },
     "metadata": {},
     "output_type": "display_data"
    }
   ],
   "source": [
    "df_unk[['Date','Laborforce- male']].set_index('Date').plot().set(xlabel ='Month & Year', \n",
    "                                                                 ylabel =' Male Laborforce')"
   ]
  },
  {
   "cell_type": "code",
   "execution_count": 68,
   "metadata": {},
   "outputs": [
    {
     "data": {
      "text/plain": [
       "<matplotlib.axes._subplots.AxesSubplot at 0x18c69895cf8>"
      ]
     },
     "execution_count": 68,
     "metadata": {},
     "output_type": "execute_result"
    },
    {
     "data": {
      "image/png": "[encoded data removed]",
      "text/plain": [
       "<Figure size 432x288 with 1 Axes>"
      ]
     },
     "metadata": {},
     "output_type": "display_data"
    }
   ],
   "source": [
    "df_unk[['Date','Laborforce- female']].set_index('Date').plot()"
   ]
  }
 ],
 "metadata": {
  "kernelspec": {
   "display_name": "Python 3",
   "language": "python",
   "name": "python3"
  },
  "language_info": {
   "codemirror_mode": {
    "name": "ipython",
    "version": 3
   },
   "file_extension": ".py",
   "mimetype": "text/x-python",
   "name": "python",
   "nbconvert_exporter": "python",
   "pygments_lexer": "ipython3",
   "version": "3.7.3"
  }
 },
 "nbformat": 4,
 "nbformat_minor": 2
}
